{
 "cells": [
  {
   "cell_type": "markdown",
   "metadata": {},
   "source": [
    "# BOKEH - is a python library which is used to make highly interactive graphs and visualizations. This is done in bokeh using HTML and Javascript. This makes it a powerful tool for creating projects, custom charts and web design based applications "
   ]
  },
  {
   "cell_type": "markdown",
   "metadata": {},
   "source": [
    "# LINE Plots - represents data as a series of points connected to each other by a line. It is used to see trends in our data and track the way data changed over a period of time."
   ]
  },
  {
   "cell_type": "code",
   "execution_count": 4,
   "metadata": {},
   "outputs": [],
   "source": [
    "from bokeh.plotting import figure, output_file, show\n",
    "\n",
    "x = [1,2,3,4,5]\n",
    "y = [2,4,6,8,10]\n",
    "\n",
    "output_file('line.html')\n",
    "\n",
    "fig = figure(title = 'Line plot example', x_axis_label = 'x',\n",
    "             y_axis_label = 'y')\n",
    "fig.line(x, y)\n",
    "\n",
    "show(fig)"
   ]
  },
  {
   "cell_type": "markdown",
   "metadata": {},
   "source": [
    "# Horizontal Bar \n"
   ]
  },
  {
   "cell_type": "code",
   "execution_count": 6,
   "metadata": {},
   "outputs": [],
   "source": [
    "fig = figure(plot_width = 400, plot_height = 200)\n",
    "fig.hbar(y = [2,4,6], height=1, left = 0, right=[1,2,3], color='navy')\n",
    "\n",
    "output_file('hbar.html')\n",
    "\n",
    "show(fig)\n",
    "\n",
    "# height - the heights of the vertical bars\n",
    "# right - the x coordinates of the right edges\n",
    "# left - the x coordinates of the left edges"
   ]
  },
  {
   "cell_type": "markdown",
   "metadata": {},
   "source": [
    "# Vertical Bar"
   ]
  },
  {
   "cell_type": "code",
   "execution_count": 8,
   "metadata": {},
   "outputs": [],
   "source": [
    "fig = figure(plot_width = 400, plot_height = 400)\n",
    "fig.vbar(x = [1,2,3], width = 0.5, bottom = 0, top = [2,4,6], color = 'Cyan')\n",
    "\n",
    "output_file('vbar.html')\n",
    "\n",
    "show(fig)\n",
    "\n",
    "# width - the widths of the vertical bars \n",
    "# top - the y-coordinates of the top edges \n",
    "# bottom - the y-coordinates of the bottom edges"
   ]
  },
  {
   "cell_type": "markdown",
   "metadata": {},
   "source": [
    "# PATCH PLOT - A plot which shades a region of space in a specific color to show a region or a group having similar properties is termed as a patch plot in Bokeh."
   ]
  },
  {
   "cell_type": "code",
   "execution_count": 10,
   "metadata": {},
   "outputs": [],
   "source": [
    "p = figure()\n",
    "\n",
    "p.patch(x = [1,3,2,4], y = [2,3,5,7], color = 'red')\n",
    "\n",
    "output_file('patch.html')\n",
    "show(p)\n",
    "\n",
    "# x - the x-coordinates for the points of the patch\n",
    "# y - the y-coordinates for the points of the patch"
   ]
  },
  {
   "cell_type": "markdown",
   "metadata": {},
   "source": [
    "# PATCHES - i.e multiple patch plots "
   ]
  },
  {
   "cell_type": "code",
   "execution_count": 12,
   "metadata": {},
   "outputs": [],
   "source": [
    "xs = [[5,3,4], [2,4,3], [2,3,5,4]]\n",
    "ys = [[6,4,2], [3,6,7], [2,4,7,8]]\n",
    "\n",
    "fig = figure()\n",
    "fig.patches(xs, ys, fill_color=['red', 'purple','blue'])\n",
    "\n",
    "output_file('patches.html')\n",
    "\n",
    "show(fig)"
   ]
  },
  {
   "cell_type": "markdown",
   "metadata": {},
   "source": [
    "# SCATTER CHARTS -are a plot of each individual datapoint in the data. Two variables are plotted against one another and each datapoint on the x-axis has a corresponding, individually plotted value on the y-axis. As a result, the plot looks like a bunch of scattered points\n",
    "\n",
    "# Marker Types\n",
    "asterisk\n",
    "\n",
    "circle\n",
    "\n",
    "circlex\n",
    "\n",
    "cross\n",
    "\n",
    "dash\n",
    "\n",
    "diamond\n",
    "\n",
    "hex\n",
    "\n",
    "square\n",
    "\n",
    "triangle\n"
   ]
  },
  {
   "cell_type": "code",
   "execution_count": 17,
   "metadata": {},
   "outputs": [],
   "source": [
    "fig = figure()\n",
    "\n",
    "x = [3,5,7,8,9]\n",
    "y = [6, 5, 2, 4, 7]\n",
    "\n",
    "fig.scatter(x, y, marker='o', size = 20, fill_color = 'red')\n",
    "\n",
    "output_file('scatter.html')\n",
    "\n",
    "show(fig)"
   ]
  },
  {
   "cell_type": "markdown",
   "metadata": {},
   "source": [
    "# AREA PLOTS - are filled regions btw two series that share a common index.\n",
    "\n",
    "# varea(): - VERTICAL AREA Output of the varea() function is a vertical directed area that has one x coordinate array, and two y coordinate arrays, y1 & y2"
   ]
  },
  {
   "cell_type": "code",
   "execution_count": 18,
   "metadata": {},
   "outputs": [],
   "source": [
    "fig = figure()\n",
    "\n",
    "x = [1,2,3,4,5]\n",
    "y1 =[2,6,4,3,5]\n",
    "y2 = [1,4,2,2,3]\n",
    "\n",
    "fig.varea(x = x, y1 = y1, y2 = y2)\n",
    "output_file('v-area.html')\n",
    "\n",
    "show(fig)\n",
    "\n",
    "# x - the x-coordinates for the points of the area\n",
    "# y1 - the y-coordinates for the points of one side of the area\n",
    "# y2 - the y-coordinates for the points of the other side of the area"
   ]
  },
  {
   "cell_type": "markdown",
   "metadata": {},
   "source": [
    "# harea() methos has two x parameters and one y parameter"
   ]
  },
  {
   "cell_type": "code",
   "execution_count": 20,
   "metadata": {},
   "outputs": [],
   "source": [
    "fig = figure()\n",
    "\n",
    "x1 = [1,2,3,4,5]\n",
    "x2 =[2,6,4,3,5]\n",
    "y = [1,4,2,2,3]\n",
    "\n",
    "fig.harea(x1 = x1, x2 = x2, y = y)\n",
    "output_file('h-area.html')\n",
    "\n",
    "show(fig)\n",
    "\n",
    "\n",
    "# y - the y-coordinates for the points of the area\n",
    "# x1 - the x-coordinates for the points of one side of the area\n",
    "# x2 - the x-coordinates for the points of the other side of the area"
   ]
  },
  {
   "cell_type": "markdown",
   "metadata": {},
   "source": [
    "# CIRCLE GLYPHS\n",
    "\n",
    "# circle()\n",
    "\n",
    "The Circle() method adds a circle glyph to the figure and needs x and y coordinates of its center. Additionally, it can be configured with the help of parameters such as fill_color, line-color, line_width etc.\n",
    "\n",
    "# circle_cross()\n",
    "The circle_cross() method adds circle glyph with a '+' cross through the center\n",
    "\n",
    "# circle_x()\n",
    "The circle_x() method adds circle with an 'X' cross through the center"
   ]
  },
  {
   "cell_type": "code",
   "execution_count": 21,
   "metadata": {},
   "outputs": [],
   "source": [
    "plot = figure()\n",
    "\n",
    "plot.circle(x = [1,2,3], y = [3,7,5], size = 20, fill_color = 'red')\n",
    "plot.circle_cross(x =[2,4,6], y = [5,8,9], size = 20, fill_color = 'blue', fill_alpha = 0.2, line_width = 2)\n",
    "plot.circle_x(x = [5,7,2], y = [2,4,9], size = 20, fill_color = 'green', fill_alpha = 0.6, line_width = 2)\n",
    "\n",
    "output_file('different-circles.html')\n",
    "show(plot)"
   ]
  },
  {
   "cell_type": "code",
   "execution_count": 2,
   "metadata": {},
   "outputs": [],
   "source": []
  }
 ],
 "metadata": {
  "kernelspec": {
   "display_name": "Python 3.10.4 64-bit",
   "language": "python",
   "name": "python3"
  },
  "language_info": {
   "codemirror_mode": {
    "name": "ipython",
    "version": 3
   },
   "file_extension": ".py",
   "mimetype": "text/x-python",
   "name": "python",
   "nbconvert_exporter": "python",
   "pygments_lexer": "ipython3",
   "version": "3.10.4"
  },
  "orig_nbformat": 4,
  "vscode": {
   "interpreter": {
    "hash": "b629c3126b5df0b3c19ac5f524890cb3a3a2e86c1a2f2c4b1c29287aa73e65d0"
   }
  }
 },
 "nbformat": 4,
 "nbformat_minor": 2
}
